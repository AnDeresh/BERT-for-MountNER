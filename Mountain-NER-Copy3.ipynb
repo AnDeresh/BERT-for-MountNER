{
 "cells": [
  {
   "cell_type": "code",
   "execution_count": 1,
   "id": "244be286-73db-4a3f-beb3-90e66a288300",
   "metadata": {},
   "outputs": [],
   "source": [
    "import pandas as pd\n",
    "from sklearn.model_selection import train_test_split\n",
    "from transformers import BertForTokenClassification, Trainer, TrainingArguments\n",
    "from transformers import AdamW, pipeline, BertTokenizerFast\n",
    "from transformers import AutoTokenizer\n",
    "from transformers import AutoModelForTokenClassification\n",
    "from tqdm import tqdm\n",
    "import random\n",
    "import torch\n",
    "from torch.nn import CrossEntropyLoss\n",
    "from torch.utils.data import DataLoader, Dataset\n",
    "import logging\n",
    "import matplotlib.pyplot as plt\n",
    "from sklearn.metrics import classification_report\n",
    "import pandas as pd\n",
    "import os"
   ]
  },
  {
   "cell_type": "code",
   "execution_count": 2,
   "id": "6a5e0267-a493-4f46-a1b5-8bb8205680d0",
   "metadata": {},
   "outputs": [
    {
     "name": "stdout",
     "output_type": "stream",
     "text": [
      "CUDA available: True\n",
      "PyTorch version: 2.5.1+cu118\n",
      "GPU: NVIDIA GeForce RTX 4070 Ti\n"
     ]
    }
   ],
   "source": [
    "import torch\n",
    "print(\"CUDA available:\", torch.cuda.is_available())\n",
    "print(\"PyTorch version:\", torch.__version__)\n",
    "if torch.cuda.is_available():\n",
    "    print(\"GPU:\", torch.cuda.get_device_name(0))"
   ]
  },
  {
   "cell_type": "code",
   "execution_count": 3,
   "id": "94a5a633",
   "metadata": {},
   "outputs": [],
   "source": [
    "# Set logging level to ERROR to suppress warnings\n",
    "logging.getLogger(\"transformers\").setLevel(logging.ERROR)"
   ]
  },
  {
   "cell_type": "code",
   "execution_count": 4,
   "id": "e8ca0473-be66-47b9-8370-708b67142df7",
   "metadata": {},
   "outputs": [],
   "source": [
    "# Load the dataset\n",
    "dataset_path = \"data/annotated_100.csv\"\n",
    "data = pd.read_csv(dataset_path)"
   ]
  },
  {
   "cell_type": "code",
   "execution_count": 5,
   "id": "99ff7b52-59c3-49a3-b7da-62ee79c5e2f0",
   "metadata": {},
   "outputs": [
    {
     "name": "stdout",
     "output_type": "stream",
     "text": [
      "First rows of the dataset:\n"
     ]
    },
    {
     "data": {
      "text/html": [
       "<div>\n",
       "<style scoped>\n",
       "    .dataframe tbody tr th:only-of-type {\n",
       "        vertical-align: middle;\n",
       "    }\n",
       "\n",
       "    .dataframe tbody tr th {\n",
       "        vertical-align: top;\n",
       "    }\n",
       "\n",
       "    .dataframe thead th {\n",
       "        text-align: right;\n",
       "    }\n",
       "</style>\n",
       "<table border=\"1\" class=\"dataframe\">\n",
       "  <thead>\n",
       "    <tr style=\"text-align: right;\">\n",
       "      <th></th>\n",
       "      <th>sentence</th>\n",
       "      <th>annotation</th>\n",
       "    </tr>\n",
       "  </thead>\n",
       "  <tbody>\n",
       "    <tr>\n",
       "      <th>0</th>\n",
       "      <td>Chimborazo in the ocean and even whole ranges ...</td>\n",
       "      <td>B-MOUNT O O O O O O O O O O O O O O O O O O O ...</td>\n",
       "    </tr>\n",
       "    <tr>\n",
       "      <th>1</th>\n",
       "      <td>I would rather go to the Elbrus than to the be...</td>\n",
       "      <td>O O O O O O B-MOUNT O O O O</td>\n",
       "    </tr>\n",
       "    <tr>\n",
       "      <th>2</th>\n",
       "      <td>Which do you like better, the sea or the Olympus?</td>\n",
       "      <td>O O O O O O O O O B-MOUNT</td>\n",
       "    </tr>\n",
       "    <tr>\n",
       "      <th>3</th>\n",
       "      <td>Some people like the sea; others prefer the An...</td>\n",
       "      <td>O O O O O O O O B-MOUNT</td>\n",
       "    </tr>\n",
       "    <tr>\n",
       "      <th>4</th>\n",
       "      <td>We watched the sun setting behind the Annapurna.</td>\n",
       "      <td>O O O O O O O B-MOUNT</td>\n",
       "    </tr>\n",
       "  </tbody>\n",
       "</table>\n",
       "</div>"
      ],
      "text/plain": [
       "                                            sentence  \\\n",
       "0  Chimborazo in the ocean and even whole ranges ...   \n",
       "1  I would rather go to the Elbrus than to the be...   \n",
       "2  Which do you like better, the sea or the Olympus?   \n",
       "3  Some people like the sea; others prefer the An...   \n",
       "4   We watched the sun setting behind the Annapurna.   \n",
       "\n",
       "                                          annotation  \n",
       "0  B-MOUNT O O O O O O O O O O O O O O O O O O O ...  \n",
       "1                        O O O O O O B-MOUNT O O O O  \n",
       "2                          O O O O O O O O O B-MOUNT  \n",
       "3                            O O O O O O O O B-MOUNT  \n",
       "4                              O O O O O O O B-MOUNT  "
      ]
     },
     "execution_count": 5,
     "metadata": {},
     "output_type": "execute_result"
    }
   ],
   "source": [
    "# Display the first few rows of the dataset\n",
    "print(\"First rows of the dataset:\")\n",
    "data.head()"
   ]
  },
  {
   "cell_type": "code",
   "execution_count": 6,
   "id": "5c20839c-b8b0-4d04-b4f1-5ad8b2e15bdf",
   "metadata": {},
   "outputs": [
    {
     "name": "stdout",
     "output_type": "stream",
     "text": [
      "\n",
      "Missing values check:\n"
     ]
    },
    {
     "data": {
      "text/plain": [
       "sentence      0\n",
       "annotation    0\n",
       "dtype: int64"
      ]
     },
     "execution_count": 6,
     "metadata": {},
     "output_type": "execute_result"
    }
   ],
   "source": [
    "# Check for missing values in the dataset\n",
    "print(\"\\nMissing values check:\")\n",
    "data.isnull().sum()"
   ]
  },
  {
   "cell_type": "code",
   "execution_count": 7,
   "id": "488c6a99-7664-42fd-ad8d-21d865f46587",
   "metadata": {},
   "outputs": [
    {
     "name": "stdout",
     "output_type": "stream",
     "text": [
      "\n",
      "Dataset size:\n"
     ]
    },
    {
     "data": {
      "text/plain": [
       "(100, 2)"
      ]
     },
     "execution_count": 7,
     "metadata": {},
     "output_type": "execute_result"
    }
   ],
   "source": [
    "# Check the dataset size (number of rows and columns)\n",
    "print(\"\\nDataset size:\")\n",
    "data.shape"
   ]
  },
  {
   "cell_type": "code",
   "execution_count": 8,
   "id": "93cd0541-07ec-4008-b40c-0deecbad0870",
   "metadata": {},
   "outputs": [
    {
     "name": "stdout",
     "output_type": "stream",
     "text": [
      "\n",
      "Unique values in the 'annotation' column:\n",
      "['B-MOUNT' 'O' 'I-MOUNT']\n"
     ]
    }
   ],
   "source": [
    "# Extract and display unique annotations\n",
    "print(\"\\nUnique values in the 'annotation' column:\")\n",
    "unique_annotations = data['annotation'].apply(lambda x: x.split()).explode().unique()\n",
    "print(unique_annotations)"
   ]
  },
  {
   "cell_type": "code",
   "execution_count": 9,
   "id": "b8d05f43-8d57-46d4-a777-fbd8417a8527",
   "metadata": {},
   "outputs": [],
   "source": [
    "# Split sentences and annotations for further processing\n",
    "sentences = data['sentence'].values\n",
    "annotations = data['annotation'].apply(lambda x: x.split()).values"
   ]
  },
  {
   "cell_type": "code",
   "execution_count": 10,
   "id": "7dd8ff9a",
   "metadata": {},
   "outputs": [],
   "source": [
    "# Define the augmentation function\n",
    "def augment_data(mountain_list, base_sentences, num_augmentations=100):\n",
    "    augmented_sentences = []\n",
    "    augmented_labels = []\n",
    "\n",
    "    for _ in range(num_augmentations):\n",
    "        mountain = random.choice(mountain_list)  # Random mountain name\n",
    "        sentence = random.choice(base_sentences).format(mountain)\n",
    "        \n",
    "        # Generate labels for multi-word entities\n",
    "        tokens = mountain.split()\n",
    "        labels = [\"B-MOUNT\"] + [\"I-MOUNT\"] * (len(tokens) - 1)\n",
    "        \n",
    "        sentence_tokens = sentence.split()\n",
    "        sentence_labels = []\n",
    "        for token in sentence_tokens:\n",
    "            if token in tokens:\n",
    "                index = tokens.index(token)\n",
    "                sentence_labels.append(labels[index])\n",
    "            else:\n",
    "                sentence_labels.append(\"O\")\n",
    "        \n",
    "        augmented_sentences.append(sentence)\n",
    "        augmented_labels.append(sentence_labels)\n",
    "    \n",
    "    return augmented_sentences, augmented_labels\n",
    "\n",
    "# Define mountains and base sentences for augmentation\n",
    "mountains = [\n",
    "    \"Mount Kilimanjaro\", \"Mount McKinley\", \"Rocky Mountains\",\n",
    "    \"Blue Ridge Mountains\", \"Cascade Range\", \"Great Smoky Mountains\"\n",
    "]\n",
    "base_sentences = [\n",
    "    \"I climbed {} last year.\",\n",
    "    \"{} are breathtaking.\",\n",
    "    \"The view from {} is spectacular.\",\n",
    "    \"I recently visited {} with my friends.\",\n",
    "    \"{} is a famous destination for hikers.\"\n",
    "]"
   ]
  },
  {
   "cell_type": "code",
   "execution_count": 11,
   "id": "30410238",
   "metadata": {},
   "outputs": [],
   "source": [
    "# Generate augmented data\n",
    "augmented_sentences, augmented_annotations = augment_data(\n",
    "    mountain_list=mountains,\n",
    "    base_sentences=base_sentences,\n",
    "    num_augmentations=100\n",
    ")\n",
    "\n",
    "# Combine original sentences with augmented sentences\n",
    "sentences = list(sentences) + augmented_sentences\n",
    "annotations = list(annotations) + augmented_annotations"
   ]
  },
  {
   "cell_type": "code",
   "execution_count": 12,
   "id": "6439d16a-8ab7-4d0f-b3d1-c76ca4a965ac",
   "metadata": {},
   "outputs": [],
   "source": [
    "# Tokenize annotations by splitting each annotation string into a list of tokens\n",
    "tokenized_annotations = annotations"
   ]
  },
  {
   "cell_type": "code",
   "execution_count": 13,
   "id": "55b02237-4248-4763-96f4-92520e99bacf",
   "metadata": {},
   "outputs": [],
   "source": [
    "# Split the dataset into training and testing sets\n",
    "train_sentences, test_sentences, train_annotations, test_annotations = train_test_split(\n",
    "    sentences, annotations, test_size=0.2, random_state=42\n",
    ")"
   ]
  },
  {
   "cell_type": "code",
   "execution_count": 14,
   "id": "d52890bc-ee58-4273-ad37-0b2feadb472c",
   "metadata": {},
   "outputs": [
    {
     "name": "stdout",
     "output_type": "stream",
     "text": [
      "Number of training samples: 160\n",
      "Number of testing samples: 40\n"
     ]
    }
   ],
   "source": [
    "# Display the number of samples in the training and testing sets\n",
    "print(\"Number of training samples:\", len(train_sentences))\n",
    "print(\"Number of testing samples:\", len(test_sentences))"
   ]
  },
  {
   "cell_type": "code",
   "execution_count": 15,
   "id": "6621df87-1ee5-429c-91e6-fef1b7f3dd12",
   "metadata": {},
   "outputs": [],
   "source": [
    "# Initialize the BERT tokenizer\n",
    "tokenizer = BertTokenizerFast.from_pretrained(\"bert-base-cased\")"
   ]
  },
  {
   "cell_type": "code",
   "execution_count": 16,
   "id": "599407b0",
   "metadata": {},
   "outputs": [],
   "source": [
    "# Function to tokenize sentences and align labels\n",
    "def tokenize_and_align_labels(sentences, annotations, tokenizer):\n",
    "    tokenized_inputs = tokenizer(\n",
    "        sentences,\n",
    "        truncation=True,\n",
    "        padding=\"max_length\",\n",
    "        max_length=128,\n",
    "        return_tensors=\"pt\",\n",
    "        is_split_into_words=False\n",
    "    )\n",
    "\n",
    "    aligned_labels = []\n",
    "    for i, label in enumerate(annotations):\n",
    "        word_ids = tokenized_inputs.word_ids(batch_index=i)\n",
    "        previous_word_id = None\n",
    "        label_ids = []\n",
    "\n",
    "        for word_id in word_ids:\n",
    "            if word_id is None:  # Special tokens ([CLS], [SEP], etc.)\n",
    "                label_ids.append(-100)\n",
    "            elif word_id < len(label):  # Ensure word_id is within bounds\n",
    "                if word_id != previous_word_id:  # First token of a word\n",
    "                    label_ids.append(label[word_id])  # Assign original label\n",
    "                else:  # Subtokens\n",
    "                    # Repeat the label for subwords\n",
    "                    sub_label = \"I-MOUNT\" if label[previous_word_id] == \"B-MOUNT\" else label[previous_word_id]\n",
    "                    label_ids.append(sub_label)\n",
    "            else:\n",
    "                label_ids.append(-100)\n",
    "\n",
    "            previous_word_id = word_id\n",
    "\n",
    "        aligned_labels.append(label_ids)\n",
    "\n",
    "    return tokenized_inputs, aligned_labels"
   ]
  },
  {
   "cell_type": "code",
   "execution_count": 17,
   "id": "801a0593",
   "metadata": {},
   "outputs": [],
   "source": [
    "# Tokenize and align labels for training and testing data\n",
    "train_inputs, train_labels = tokenize_and_align_labels(train_sentences, train_annotations, tokenizer)\n",
    "test_inputs, test_labels = tokenize_and_align_labels(test_sentences, test_annotations, tokenizer)"
   ]
  },
  {
   "cell_type": "code",
   "execution_count": 18,
   "id": "f13bf78a",
   "metadata": {},
   "outputs": [],
   "source": [
    "# Check if the number of tokens matches the number of labels for training data\n",
    "for i, labels in enumerate(train_labels):\n",
    "    tokens = train_inputs.encodings[i].tokens  # Get the tokens for the i-th sentence\n",
    "    if len(labels) != len(tokens):  # Compare number of labels with number of tokens\n",
    "        print(f\"Mismatch in training sample {i}: {len(labels)} labels vs {len(tokens)} tokens\")"
   ]
  },
  {
   "cell_type": "code",
   "execution_count": 19,
   "id": "1aa524df",
   "metadata": {},
   "outputs": [],
   "source": [
    "# Check if the number of tokens matches the number of labels for testing data\n",
    "for i, labels in enumerate(test_labels):\n",
    "    tokens = test_inputs.encodings[i].tokens  # Get the tokens for the i-th sentence\n",
    "    if len(labels) != len(tokens):  # Compare number of labels with number of tokens\n",
    "        print(f\"Mismatch in testing sample {i}: {len(labels)} labels vs {len(tokens)} tokens\")"
   ]
  },
  {
   "cell_type": "code",
   "execution_count": 20,
   "id": "8d30363e",
   "metadata": {
    "jupyter": {
     "outputs_hidden": true
    }
   },
   "outputs": [],
   "source": [
    "# Example debugging for tokenization and label alignment\n",
    "example_index = 1  # Change this index to check different examples\n",
    "\n",
    "# Get tokens and labels for the example\n",
    "tokens = train_inputs.encodings[example_index].tokens  # Use .tokens to get token list\n",
    "labels = train_labels[example_index]"
   ]
  },
  {
   "cell_type": "code",
   "execution_count": 21,
   "id": "aab21b12",
   "metadata": {
    "jupyter": {
     "outputs_hidden": true
    }
   },
   "outputs": [
    {
     "name": "stdout",
     "output_type": "stream",
     "text": [
      "[CLS]           --> -100\n",
      "I               --> O\n",
      "climbed         --> O\n",
      "Rocky           --> B-MOUNT\n",
      "Mountains       --> I-MOUNT\n",
      "last            --> O\n",
      "year            --> O\n",
      ".               --> -100\n",
      "[SEP]           --> -100\n",
      "[PAD]           --> -100\n",
      "[PAD]           --> -100\n",
      "[PAD]           --> -100\n",
      "[PAD]           --> -100\n",
      "[PAD]           --> -100\n",
      "[PAD]           --> -100\n"
     ]
    }
   ],
   "source": [
    "# Check alignment visually\n",
    "for token, label in zip(tokens[:15], labels[:15]):\n",
    "    print(f\"{token:15} --> {label}\")"
   ]
  },
  {
   "cell_type": "code",
   "execution_count": 22,
   "id": "2f7cf60f",
   "metadata": {},
   "outputs": [],
   "source": [
    "# Define a custom dataset for token classification\n",
    "class NERDataset(Dataset):\n",
    "    def __init__(self, inputs, labels, label2id):\n",
    "        self.inputs = inputs\n",
    "        self.labels = labels\n",
    "        self.label2id = label2id  # Map for converting labels to IDs\n",
    "\n",
    "    def __len__(self):\n",
    "        return len(self.inputs[\"input_ids\"])\n",
    "\n",
    "    def __getitem__(self, idx):\n",
    "        label_ids = [\n",
    "            self.label2id[label] if label != -100 else -100  # Convert label to ID, ignore -100\n",
    "            for label in self.labels[idx]\n",
    "        ]\n",
    "        return {\n",
    "            \"input_ids\": self.inputs[\"input_ids\"][idx],\n",
    "            \"attention_mask\": self.inputs[\"attention_mask\"][idx],\n",
    "            \"labels\": torch.tensor(label_ids, dtype=torch.long)  # Create tensor from label IDs\n",
    "        }"
   ]
  },
  {
   "cell_type": "code",
   "execution_count": 23,
   "id": "04d68c8f",
   "metadata": {},
   "outputs": [],
   "source": [
    "# Define label-to-ID mapping\n",
    "label2id = {\"O\": 0, \"B-MOUNT\": 1, \"I-MOUNT\": 2}\n",
    "\n",
    "# Prepare datasets\n",
    "train_dataset = NERDataset(train_inputs, train_labels, label2id)\n",
    "test_dataset = NERDataset(test_inputs, test_labels, label2id)\n",
    "\n",
    "# Create DataLoader\n",
    "train_dataloader = DataLoader(train_dataset, batch_size=8, shuffle=True)\n",
    "test_dataloader = DataLoader(test_dataset, batch_size=8)"
   ]
  },
  {
   "cell_type": "code",
   "execution_count": 24,
   "id": "2c050c23",
   "metadata": {},
   "outputs": [],
   "source": [
    "# Define the model\n",
    "model = AutoModelForTokenClassification.from_pretrained(\n",
    "    \"bert-base-cased\",\n",
    "    num_labels=3,\n",
    "    id2label={0: \"O\", 1: \"B-MOUNT\", 2: \"I-MOUNT\"},\n",
    "    label2id={\"O\": 0, \"B-MOUNT\": 1, \"I-MOUNT\": 2}\n",
    ")"
   ]
  },
  {
   "cell_type": "code",
   "execution_count": 25,
   "id": "6416a9fa",
   "metadata": {},
   "outputs": [],
   "source": [
    "device = torch.device(\"cuda\" if torch.cuda.is_available() else \"cpu\")"
   ]
  },
  {
   "cell_type": "code",
   "execution_count": 26,
   "id": "e8f2e190",
   "metadata": {},
   "outputs": [],
   "source": [
    "# Define class weights for imbalanced data\n",
    "tag_counts = {'O': 10153, 'B-MOUNT': 82, 'I-MOUNT': 5}\n",
    "total = sum(tag_counts.values())\n",
    "weights = torch.tensor([\n",
    "    total / tag_counts['O'],          # Weight for \"O\"\n",
    "    total / tag_counts['B-MOUNT'],    # Weight for \"B-MOUNT\"\n",
    "    total / tag_counts['I-MOUNT'],    # Weight for \"I-MOUNT\"\n",
    "]).to(device)"
   ]
  },
  {
   "cell_type": "code",
   "execution_count": 27,
   "id": "35dc52a6",
   "metadata": {},
   "outputs": [
    {
     "name": "stderr",
     "output_type": "stream",
     "text": [
      "C:\\Users\\Anastasiia\\anaconda3\\envs\\Quantum-NER\\lib\\site-packages\\transformers\\optimization.py:591: FutureWarning: This implementation of AdamW is deprecated and will be removed in a future version. Use the PyTorch implementation torch.optim.AdamW instead, or set `no_deprecation_warning=True` to disable this warning\n",
      "  warnings.warn(\n"
     ]
    },
    {
     "data": {
      "text/plain": [
       "BertForTokenClassification(\n",
       "  (bert): BertModel(\n",
       "    (embeddings): BertEmbeddings(\n",
       "      (word_embeddings): Embedding(28996, 768, padding_idx=0)\n",
       "      (position_embeddings): Embedding(512, 768)\n",
       "      (token_type_embeddings): Embedding(2, 768)\n",
       "      (LayerNorm): LayerNorm((768,), eps=1e-12, elementwise_affine=True)\n",
       "      (dropout): Dropout(p=0.1, inplace=False)\n",
       "    )\n",
       "    (encoder): BertEncoder(\n",
       "      (layer): ModuleList(\n",
       "        (0-11): 12 x BertLayer(\n",
       "          (attention): BertAttention(\n",
       "            (self): BertSdpaSelfAttention(\n",
       "              (query): Linear(in_features=768, out_features=768, bias=True)\n",
       "              (key): Linear(in_features=768, out_features=768, bias=True)\n",
       "              (value): Linear(in_features=768, out_features=768, bias=True)\n",
       "              (dropout): Dropout(p=0.1, inplace=False)\n",
       "            )\n",
       "            (output): BertSelfOutput(\n",
       "              (dense): Linear(in_features=768, out_features=768, bias=True)\n",
       "              (LayerNorm): LayerNorm((768,), eps=1e-12, elementwise_affine=True)\n",
       "              (dropout): Dropout(p=0.1, inplace=False)\n",
       "            )\n",
       "          )\n",
       "          (intermediate): BertIntermediate(\n",
       "            (dense): Linear(in_features=768, out_features=3072, bias=True)\n",
       "            (intermediate_act_fn): GELUActivation()\n",
       "          )\n",
       "          (output): BertOutput(\n",
       "            (dense): Linear(in_features=3072, out_features=768, bias=True)\n",
       "            (LayerNorm): LayerNorm((768,), eps=1e-12, elementwise_affine=True)\n",
       "            (dropout): Dropout(p=0.1, inplace=False)\n",
       "          )\n",
       "        )\n",
       "      )\n",
       "    )\n",
       "  )\n",
       "  (dropout): Dropout(p=0.1, inplace=False)\n",
       "  (classifier): Linear(in_features=768, out_features=3, bias=True)\n",
       ")"
      ]
     },
     "execution_count": 27,
     "metadata": {},
     "output_type": "execute_result"
    }
   ],
   "source": [
    "# Use weighted loss\n",
    "loss_function = CrossEntropyLoss(weight=weights)\n",
    "\n",
    "# Prepare optimizer\n",
    "optimizer = AdamW(model.parameters(), lr=2e-5)\n",
    "\n",
    "# Move model to device (GPU if available)\n",
    "model.to(device)"
   ]
  },
  {
   "cell_type": "code",
   "execution_count": 28,
   "id": "64a23c2e",
   "metadata": {},
   "outputs": [
    {
     "name": "stdout",
     "output_type": "stream",
     "text": [
      "Epoch 1\n"
     ]
    },
    {
     "name": "stderr",
     "output_type": "stream",
     "text": [
      "100%|██████████████████████████████████████████████████████████████████████████████████| 20/20 [00:01<00:00, 17.50it/s]\n"
     ]
    },
    {
     "name": "stdout",
     "output_type": "stream",
     "text": [
      "Average loss for epoch 1: 0.34060976542532445\n",
      "Epoch 2\n"
     ]
    },
    {
     "name": "stderr",
     "output_type": "stream",
     "text": [
      "100%|██████████████████████████████████████████████████████████████████████████████████| 20/20 [00:01<00:00, 19.74it/s]\n"
     ]
    },
    {
     "name": "stdout",
     "output_type": "stream",
     "text": [
      "Average loss for epoch 2: 0.1169272817671299\n",
      "Epoch 3\n"
     ]
    },
    {
     "name": "stderr",
     "output_type": "stream",
     "text": [
      "100%|██████████████████████████████████████████████████████████████████████████████████| 20/20 [00:00<00:00, 20.29it/s]\n"
     ]
    },
    {
     "name": "stdout",
     "output_type": "stream",
     "text": [
      "Average loss for epoch 3: 0.07661594226956367\n",
      "Epoch 4\n"
     ]
    },
    {
     "name": "stderr",
     "output_type": "stream",
     "text": [
      "100%|██████████████████████████████████████████████████████████████████████████████████| 20/20 [00:01<00:00, 19.98it/s]\n"
     ]
    },
    {
     "name": "stdout",
     "output_type": "stream",
     "text": [
      "Average loss for epoch 4: 0.03920735977590084\n",
      "Epoch 5\n"
     ]
    },
    {
     "name": "stderr",
     "output_type": "stream",
     "text": [
      "100%|██████████████████████████████████████████████████████████████████████████████████| 20/20 [00:00<00:00, 20.07it/s]\n"
     ]
    },
    {
     "name": "stdout",
     "output_type": "stream",
     "text": [
      "Average loss for epoch 5: 0.019616072112694383\n",
      "Epoch 6\n"
     ]
    },
    {
     "name": "stderr",
     "output_type": "stream",
     "text": [
      "100%|██████████████████████████████████████████████████████████████████████████████████| 20/20 [00:00<00:00, 20.06it/s]\n"
     ]
    },
    {
     "name": "stdout",
     "output_type": "stream",
     "text": [
      "Average loss for epoch 6: 0.012182748690247536\n",
      "Epoch 7\n"
     ]
    },
    {
     "name": "stderr",
     "output_type": "stream",
     "text": [
      "100%|██████████████████████████████████████████████████████████████████████████████████| 20/20 [00:01<00:00, 19.83it/s]\n"
     ]
    },
    {
     "name": "stdout",
     "output_type": "stream",
     "text": [
      "Average loss for epoch 7: 0.010295207949820907\n",
      "Epoch 8\n"
     ]
    },
    {
     "name": "stderr",
     "output_type": "stream",
     "text": [
      "100%|██████████████████████████████████████████████████████████████████████████████████| 20/20 [00:00<00:00, 20.02it/s]\n"
     ]
    },
    {
     "name": "stdout",
     "output_type": "stream",
     "text": [
      "Average loss for epoch 8: 0.008216856908984483\n",
      "Epoch 9\n"
     ]
    },
    {
     "name": "stderr",
     "output_type": "stream",
     "text": [
      "100%|██████████████████████████████████████████████████████████████████████████████████| 20/20 [00:00<00:00, 20.21it/s]\n"
     ]
    },
    {
     "name": "stdout",
     "output_type": "stream",
     "text": [
      "Average loss for epoch 9: 0.007557495834771544\n",
      "Epoch 10\n"
     ]
    },
    {
     "name": "stderr",
     "output_type": "stream",
     "text": [
      "100%|██████████████████████████████████████████████████████████████████████████████████| 20/20 [00:01<00:00, 19.88it/s]\n"
     ]
    },
    {
     "name": "stdout",
     "output_type": "stream",
     "text": [
      "Average loss for epoch 10: 0.006271739734802395\n",
      "Epoch 11\n"
     ]
    },
    {
     "name": "stderr",
     "output_type": "stream",
     "text": [
      "100%|██████████████████████████████████████████████████████████████████████████████████| 20/20 [00:00<00:00, 20.12it/s]\n"
     ]
    },
    {
     "name": "stdout",
     "output_type": "stream",
     "text": [
      "Average loss for epoch 11: 0.005457033711718395\n",
      "Epoch 12\n"
     ]
    },
    {
     "name": "stderr",
     "output_type": "stream",
     "text": [
      "100%|██████████████████████████████████████████████████████████████████████████████████| 20/20 [00:00<00:00, 20.12it/s]\n"
     ]
    },
    {
     "name": "stdout",
     "output_type": "stream",
     "text": [
      "Average loss for epoch 12: 0.004194838198600337\n",
      "Epoch 13\n"
     ]
    },
    {
     "name": "stderr",
     "output_type": "stream",
     "text": [
      "100%|██████████████████████████████████████████████████████████████████████████████████| 20/20 [00:00<00:00, 20.13it/s]\n"
     ]
    },
    {
     "name": "stdout",
     "output_type": "stream",
     "text": [
      "Average loss for epoch 13: 0.003556068439502269\n",
      "Epoch 14\n"
     ]
    },
    {
     "name": "stderr",
     "output_type": "stream",
     "text": [
      "100%|██████████████████████████████████████████████████████████████████████████████████| 20/20 [00:01<00:00, 19.76it/s]\n"
     ]
    },
    {
     "name": "stdout",
     "output_type": "stream",
     "text": [
      "Average loss for epoch 14: 0.0033323275129077956\n",
      "Epoch 15\n"
     ]
    },
    {
     "name": "stderr",
     "output_type": "stream",
     "text": [
      "100%|██████████████████████████████████████████████████████████████████████████████████| 20/20 [00:00<00:00, 20.26it/s]\n"
     ]
    },
    {
     "name": "stdout",
     "output_type": "stream",
     "text": [
      "Average loss for epoch 15: 0.0028346427949145435\n",
      "Epoch 16\n"
     ]
    },
    {
     "name": "stderr",
     "output_type": "stream",
     "text": [
      "100%|██████████████████████████████████████████████████████████████████████████████████| 20/20 [00:01<00:00, 19.75it/s]\n"
     ]
    },
    {
     "name": "stdout",
     "output_type": "stream",
     "text": [
      "Average loss for epoch 16: 0.002512651638244279\n",
      "Epoch 17\n"
     ]
    },
    {
     "name": "stderr",
     "output_type": "stream",
     "text": [
      "100%|██████████████████████████████████████████████████████████████████████████████████| 20/20 [00:00<00:00, 20.05it/s]\n"
     ]
    },
    {
     "name": "stdout",
     "output_type": "stream",
     "text": [
      "Average loss for epoch 17: 0.0020517712502623906\n",
      "Epoch 18\n"
     ]
    },
    {
     "name": "stderr",
     "output_type": "stream",
     "text": [
      "100%|██████████████████████████████████████████████████████████████████████████████████| 20/20 [00:01<00:00, 19.63it/s]\n"
     ]
    },
    {
     "name": "stdout",
     "output_type": "stream",
     "text": [
      "Average loss for epoch 18: 0.0015814480997505599\n",
      "Epoch 19\n"
     ]
    },
    {
     "name": "stderr",
     "output_type": "stream",
     "text": [
      "100%|██████████████████████████████████████████████████████████████████████████████████| 20/20 [00:01<00:00, 19.58it/s]\n"
     ]
    },
    {
     "name": "stdout",
     "output_type": "stream",
     "text": [
      "Average loss for epoch 19: 0.0015068597749632318\n",
      "Epoch 20\n"
     ]
    },
    {
     "name": "stderr",
     "output_type": "stream",
     "text": [
      "100%|██████████████████████████████████████████████████████████████████████████████████| 20/20 [00:00<00:00, 20.19it/s]\n"
     ]
    },
    {
     "name": "stdout",
     "output_type": "stream",
     "text": [
      "Average loss for epoch 20: 0.0013106745565892198\n",
      "Epoch 21\n"
     ]
    },
    {
     "name": "stderr",
     "output_type": "stream",
     "text": [
      "100%|██████████████████████████████████████████████████████████████████████████████████| 20/20 [00:01<00:00, 19.57it/s]\n"
     ]
    },
    {
     "name": "stdout",
     "output_type": "stream",
     "text": [
      "Average loss for epoch 21: 0.001517254995997064\n",
      "Epoch 22\n"
     ]
    },
    {
     "name": "stderr",
     "output_type": "stream",
     "text": [
      "100%|██████████████████████████████████████████████████████████████████████████████████| 20/20 [00:01<00:00, 19.70it/s]\n"
     ]
    },
    {
     "name": "stdout",
     "output_type": "stream",
     "text": [
      "Average loss for epoch 22: 0.001233090778987389\n",
      "Epoch 23\n"
     ]
    },
    {
     "name": "stderr",
     "output_type": "stream",
     "text": [
      "100%|██████████████████████████████████████████████████████████████████████████████████| 20/20 [00:01<00:00, 19.93it/s]\n"
     ]
    },
    {
     "name": "stdout",
     "output_type": "stream",
     "text": [
      "Average loss for epoch 23: 0.0011600778823776636\n",
      "Epoch 24\n"
     ]
    },
    {
     "name": "stderr",
     "output_type": "stream",
     "text": [
      "100%|██████████████████████████████████████████████████████████████████████████████████| 20/20 [00:01<00:00, 19.78it/s]\n"
     ]
    },
    {
     "name": "stdout",
     "output_type": "stream",
     "text": [
      "Average loss for epoch 24: 0.0010090478870552033\n",
      "Epoch 25\n"
     ]
    },
    {
     "name": "stderr",
     "output_type": "stream",
     "text": [
      "100%|██████████████████████████████████████████████████████████████████████████████████| 20/20 [00:01<00:00, 19.39it/s]\n"
     ]
    },
    {
     "name": "stdout",
     "output_type": "stream",
     "text": [
      "Average loss for epoch 25: 0.001035314845648827\n",
      "Epoch 26\n"
     ]
    },
    {
     "name": "stderr",
     "output_type": "stream",
     "text": [
      "100%|██████████████████████████████████████████████████████████████████████████████████| 20/20 [00:00<00:00, 20.07it/s]\n"
     ]
    },
    {
     "name": "stdout",
     "output_type": "stream",
     "text": [
      "Average loss for epoch 26: 0.0007874953138525598\n",
      "Epoch 27\n"
     ]
    },
    {
     "name": "stderr",
     "output_type": "stream",
     "text": [
      "100%|██████████████████████████████████████████████████████████████████████████████████| 20/20 [00:01<00:00, 19.80it/s]\n"
     ]
    },
    {
     "name": "stdout",
     "output_type": "stream",
     "text": [
      "Average loss for epoch 27: 0.0007541659804701339\n",
      "Epoch 28\n"
     ]
    },
    {
     "name": "stderr",
     "output_type": "stream",
     "text": [
      "100%|██████████████████████████████████████████████████████████████████████████████████| 20/20 [00:00<00:00, 20.41it/s]\n"
     ]
    },
    {
     "name": "stdout",
     "output_type": "stream",
     "text": [
      "Average loss for epoch 28: 0.0007517388999985997\n",
      "Epoch 29\n"
     ]
    },
    {
     "name": "stderr",
     "output_type": "stream",
     "text": [
      "100%|██████████████████████████████████████████████████████████████████████████████████| 20/20 [00:00<00:00, 20.17it/s]\n"
     ]
    },
    {
     "name": "stdout",
     "output_type": "stream",
     "text": [
      "Average loss for epoch 29: 0.0007018458833044861\n",
      "Epoch 30\n"
     ]
    },
    {
     "name": "stderr",
     "output_type": "stream",
     "text": [
      "100%|██████████████████████████████████████████████████████████████████████████████████| 20/20 [00:00<00:00, 20.44it/s]\n"
     ]
    },
    {
     "name": "stdout",
     "output_type": "stream",
     "text": [
      "Average loss for epoch 30: 0.0010290131293004378\n",
      "Epoch 31\n"
     ]
    },
    {
     "name": "stderr",
     "output_type": "stream",
     "text": [
      "100%|██████████████████████████████████████████████████████████████████████████████████| 20/20 [00:00<00:00, 20.14it/s]\n"
     ]
    },
    {
     "name": "stdout",
     "output_type": "stream",
     "text": [
      "Average loss for epoch 31: 0.026482497704273557\n",
      "Epoch 32\n"
     ]
    },
    {
     "name": "stderr",
     "output_type": "stream",
     "text": [
      "100%|██████████████████████████████████████████████████████████████████████████████████| 20/20 [00:00<00:00, 20.31it/s]\n"
     ]
    },
    {
     "name": "stdout",
     "output_type": "stream",
     "text": [
      "Average loss for epoch 32: 0.01792440959252417\n",
      "Epoch 33\n"
     ]
    },
    {
     "name": "stderr",
     "output_type": "stream",
     "text": [
      "100%|██████████████████████████████████████████████████████████████████████████████████| 20/20 [00:00<00:00, 20.16it/s]\n"
     ]
    },
    {
     "name": "stdout",
     "output_type": "stream",
     "text": [
      "Average loss for epoch 33: 0.004102767584845424\n",
      "Epoch 34\n"
     ]
    },
    {
     "name": "stderr",
     "output_type": "stream",
     "text": [
      "100%|██████████████████████████████████████████████████████████████████████████████████| 20/20 [00:00<00:00, 20.33it/s]\n"
     ]
    },
    {
     "name": "stdout",
     "output_type": "stream",
     "text": [
      "Average loss for epoch 34: 0.001973746792646125\n",
      "Epoch 35\n"
     ]
    },
    {
     "name": "stderr",
     "output_type": "stream",
     "text": [
      "100%|██████████████████████████████████████████████████████████████████████████████████| 20/20 [00:00<00:00, 20.38it/s]\n"
     ]
    },
    {
     "name": "stdout",
     "output_type": "stream",
     "text": [
      "Average loss for epoch 35: 0.0012303976167459042\n",
      "Epoch 36\n"
     ]
    },
    {
     "name": "stderr",
     "output_type": "stream",
     "text": [
      "100%|██████████████████████████████████████████████████████████████████████████████████| 20/20 [00:01<00:00, 19.82it/s]\n"
     ]
    },
    {
     "name": "stdout",
     "output_type": "stream",
     "text": [
      "Average loss for epoch 36: 0.0010864078387385235\n",
      "Epoch 37\n"
     ]
    },
    {
     "name": "stderr",
     "output_type": "stream",
     "text": [
      "100%|██████████████████████████████████████████████████████████████████████████████████| 20/20 [00:01<00:00, 19.92it/s]\n"
     ]
    },
    {
     "name": "stdout",
     "output_type": "stream",
     "text": [
      "Average loss for epoch 37: 0.0009555035401717759\n",
      "Epoch 38\n"
     ]
    },
    {
     "name": "stderr",
     "output_type": "stream",
     "text": [
      "100%|██████████████████████████████████████████████████████████████████████████████████| 20/20 [00:01<00:00, 19.75it/s]\n"
     ]
    },
    {
     "name": "stdout",
     "output_type": "stream",
     "text": [
      "Average loss for epoch 38: 0.0008887233459972776\n",
      "Epoch 39\n"
     ]
    },
    {
     "name": "stderr",
     "output_type": "stream",
     "text": [
      "100%|██████████████████████████████████████████████████████████████████████████████████| 20/20 [00:00<00:00, 20.22it/s]\n"
     ]
    },
    {
     "name": "stdout",
     "output_type": "stream",
     "text": [
      "Average loss for epoch 39: 0.0008119111633277498\n",
      "Epoch 40\n"
     ]
    },
    {
     "name": "stderr",
     "output_type": "stream",
     "text": [
      "100%|██████████████████████████████████████████████████████████████████████████████████| 20/20 [00:01<00:00, 19.49it/s]\n"
     ]
    },
    {
     "name": "stdout",
     "output_type": "stream",
     "text": [
      "Average loss for epoch 40: 0.000688329192053061\n",
      "Epoch 41\n"
     ]
    },
    {
     "name": "stderr",
     "output_type": "stream",
     "text": [
      "100%|██████████████████████████████████████████████████████████████████████████████████| 20/20 [00:00<00:00, 20.06it/s]\n"
     ]
    },
    {
     "name": "stdout",
     "output_type": "stream",
     "text": [
      "Average loss for epoch 41: 0.0007258724865096156\n",
      "Epoch 42\n"
     ]
    },
    {
     "name": "stderr",
     "output_type": "stream",
     "text": [
      "100%|██████████████████████████████████████████████████████████████████████████████████| 20/20 [00:01<00:00, 19.70it/s]\n"
     ]
    },
    {
     "name": "stdout",
     "output_type": "stream",
     "text": [
      "Average loss for epoch 42: 0.0006297972391621443\n",
      "Epoch 43\n"
     ]
    },
    {
     "name": "stderr",
     "output_type": "stream",
     "text": [
      "100%|██████████████████████████████████████████████████████████████████████████████████| 20/20 [00:00<00:00, 20.08it/s]\n"
     ]
    },
    {
     "name": "stdout",
     "output_type": "stream",
     "text": [
      "Average loss for epoch 43: 0.0007093922191415914\n",
      "Epoch 44\n"
     ]
    },
    {
     "name": "stderr",
     "output_type": "stream",
     "text": [
      "100%|██████████████████████████████████████████████████████████████████████████████████| 20/20 [00:01<00:00, 19.68it/s]\n"
     ]
    },
    {
     "name": "stdout",
     "output_type": "stream",
     "text": [
      "Average loss for epoch 44: 0.0005976305234071333\n",
      "Epoch 45\n"
     ]
    },
    {
     "name": "stderr",
     "output_type": "stream",
     "text": [
      "100%|██████████████████████████████████████████████████████████████████████████████████| 20/20 [00:00<00:00, 20.06it/s]\n"
     ]
    },
    {
     "name": "stdout",
     "output_type": "stream",
     "text": [
      "Average loss for epoch 45: 0.000611232557639596\n",
      "Epoch 46\n"
     ]
    },
    {
     "name": "stderr",
     "output_type": "stream",
     "text": [
      "100%|██████████████████████████████████████████████████████████████████████████████████| 20/20 [00:00<00:00, 20.04it/s]\n"
     ]
    },
    {
     "name": "stdout",
     "output_type": "stream",
     "text": [
      "Average loss for epoch 46: 0.0005665286647854373\n",
      "Epoch 47\n"
     ]
    },
    {
     "name": "stderr",
     "output_type": "stream",
     "text": [
      "100%|██████████████████████████████████████████████████████████████████████████████████| 20/20 [00:00<00:00, 20.03it/s]\n"
     ]
    },
    {
     "name": "stdout",
     "output_type": "stream",
     "text": [
      "Average loss for epoch 47: 0.0004997194108000258\n",
      "Epoch 48\n"
     ]
    },
    {
     "name": "stderr",
     "output_type": "stream",
     "text": [
      "100%|██████████████████████████████████████████████████████████████████████████████████| 20/20 [00:00<00:00, 20.25it/s]\n"
     ]
    },
    {
     "name": "stdout",
     "output_type": "stream",
     "text": [
      "Average loss for epoch 48: 0.0005440581404400291\n",
      "Epoch 49\n"
     ]
    },
    {
     "name": "stderr",
     "output_type": "stream",
     "text": [
      "100%|██████████████████████████████████████████████████████████████████████████████████| 20/20 [00:00<00:00, 20.23it/s]\n"
     ]
    },
    {
     "name": "stdout",
     "output_type": "stream",
     "text": [
      "Average loss for epoch 49: 0.0005163839432498207\n",
      "Epoch 50\n"
     ]
    },
    {
     "name": "stderr",
     "output_type": "stream",
     "text": [
      "100%|██████████████████████████████████████████████████████████████████████████████████| 20/20 [00:00<00:00, 20.35it/s]"
     ]
    },
    {
     "name": "stdout",
     "output_type": "stream",
     "text": [
      "Average loss for epoch 50: 0.0005575233324634609\n"
     ]
    },
    {
     "name": "stderr",
     "output_type": "stream",
     "text": [
      "\n"
     ]
    }
   ],
   "source": [
    "# List to store loss for each epoch\n",
    "epoch_losses = []\n",
    "\n",
    "# Training loop\n",
    "model.train()\n",
    "for epoch in range(50):  # Adjust the number of epochs\n",
    "    print(f\"Epoch {epoch + 1}\")\n",
    "    total_loss = 0\n",
    "\n",
    "    for batch in tqdm(train_dataloader):\n",
    "        input_ids = batch[\"input_ids\"].to(device)\n",
    "        attention_mask = batch[\"attention_mask\"].to(device)\n",
    "        labels = batch[\"labels\"].to(device)\n",
    "\n",
    "        # Forward pass\n",
    "        outputs = model(input_ids=input_ids, attention_mask=attention_mask, labels=labels)\n",
    "        logits = outputs.logits\n",
    "\n",
    "        # Compute loss\n",
    "        loss = loss_function(logits.view(-1, model.config.num_labels), labels.view(-1))\n",
    "        total_loss += loss.item()\n",
    "\n",
    "        # Backward pass and optimization\n",
    "        loss.backward()\n",
    "        optimizer.step()\n",
    "        optimizer.zero_grad()\n",
    "\n",
    "    # Store the average loss for the epoch\n",
    "    average_loss = total_loss / len(train_dataloader)\n",
    "    epoch_losses.append(average_loss)\n",
    "    print(f\"Average loss for epoch {epoch + 1}: {average_loss}\")"
   ]
  },
  {
   "cell_type": "code",
   "execution_count": 29,
   "id": "196d5cff",
   "metadata": {},
   "outputs": [
    {
     "data": {
      "image/png": "[encoded data removed]",
      "text/plain": [
       "<Figure size 1000x600 with 1 Axes>"
      ]
     },
     "metadata": {},
     "output_type": "display_data"
    }
   ],
   "source": [
    "# Plot the loss curve\n",
    "plt.figure(figsize=(10, 6))\n",
    "plt.plot(range(1, len(epoch_losses) + 1), epoch_losses, marker='o', label='Training Loss')\n",
    "plt.title('Training Loss over Epochs')\n",
    "plt.xlabel('Epoch')\n",
    "plt.ylabel('Loss')\n",
    "plt.xticks(range(1, len(epoch_losses) + 1))  # Set x-axis to show each epoch\n",
    "plt.legend()\n",
    "plt.grid()\n",
    "plt.show()"
   ]
  },
  {
   "cell_type": "code",
   "execution_count": 30,
   "id": "b2a52500",
   "metadata": {},
   "outputs": [
    {
     "name": "stdout",
     "output_type": "stream",
     "text": [
      "Saving model into existing folder: ./ner_model\n",
      "Model and tokenizer saved in: ./ner_model\n"
     ]
    }
   ],
   "source": [
    "# Define the folder where the model should be saved\n",
    "save_folder = \"./ner_model\"\n",
    "\n",
    "# Check if the folder exists\n",
    "if not os.path.exists(save_folder):\n",
    "    print(f\"Creating folder: {save_folder}\")\n",
    "    os.makedirs(save_folder)\n",
    "else:\n",
    "    print(f\"Saving model into existing folder: {save_folder}\")\n",
    "\n",
    "# Save the model and tokenizer\n",
    "model.save_pretrained(save_folder)\n",
    "tokenizer.save_pretrained(save_folder)\n",
    "\n",
    "print(f\"Model and tokenizer saved in: {save_folder}\")"
   ]
  },
  {
   "cell_type": "code",
   "execution_count": 31,
   "id": "ed3fc5e6",
   "metadata": {},
   "outputs": [],
   "source": [
    "# Define the path to the saved model\n",
    "model_path = \"./ner_model\"\n",
    "\n",
    "# Load the model and tokenizer\n",
    "model = BertForTokenClassification.from_pretrained(model_path)\n",
    "tokenizer = BertTokenizerFast.from_pretrained(model_path)\n",
    "\n",
    "# Create a pipeline for NER\n",
    "ner_pipeline = pipeline(\"ner\", model=model, tokenizer=tokenizer)"
   ]
  },
  {
   "cell_type": "code",
   "execution_count": 102,
   "id": "55ca6a8e",
   "metadata": {},
   "outputs": [],
   "source": [
    "# Define merge_subtokens function with confidence threshold\n",
    "def merge_subtokens_with_threshold(predictions, confidence_threshold=0.84):\n",
    "    merged_entities = []\n",
    "    current_entity = None\n",
    "    current_entity_score = []\n",
    "\n",
    "    for pred in predictions:\n",
    "        token = pred[\"word\"]\n",
    "        label = pred[\"entity\"]\n",
    "        score = pred[\"score\"]\n",
    "\n",
    "        if token.startswith(\"##\"):\n",
    "            if current_entity:\n",
    "                current_entity[\"word\"] += token[2:]  # Append subtoken\n",
    "                current_entity_score.append(score)\n",
    "        else:\n",
    "            if current_entity:\n",
    "                avg_score = sum(current_entity_score) / len(current_entity_score)\n",
    "                if avg_score >= confidence_threshold:\n",
    "                    current_entity[\"score\"] = avg_score\n",
    "                    merged_entities.append(current_entity)\n",
    "            current_entity = {\"word\": token, \"entity\": label, \"score\": score}\n",
    "            current_entity_score = [score]\n",
    "\n",
    "    if current_entity:\n",
    "        avg_score = sum(current_entity_score) / len(current_entity_score)\n",
    "        if avg_score >= confidence_threshold:\n",
    "            current_entity[\"score\"] = avg_score\n",
    "            merged_entities.append(current_entity)\n",
    "\n",
    "    return merged_entities\n"
   ]
  },
  {
   "cell_type": "code",
   "execution_count": 103,
   "id": "5abe68f4",
   "metadata": {},
   "outputs": [
    {
     "name": "stdout",
     "output_type": "stream",
     "text": [
      "Entity: Mount, Label: B-MOUNT, Score: 1.00\n",
      "Entity: Everest, Label: I-MOUNT, Score: 1.00\n",
      "Entity: Alps, Label: B-MOUNT, Score: 0.85\n"
     ]
    }
   ],
   "source": [
    "# Test sample\n",
    "test_text = \"I climbed Mount Everest and visited the Alps in June.\"\n",
    "\n",
    "# Get predictions\n",
    "predictions = ner_pipeline(test_text)\n",
    "\n",
    "# Merge results\n",
    "merged_predictions = merge_subtokens_with_threshold(predictions)\n",
    "\n",
    "# Display the predictions\n",
    "for entity in merged_predictions:\n",
    "    print(f\"Entity: {entity['word']}, Label: {entity['entity']}, Score: {entity['score']:.2f}\")"
   ]
  },
  {
   "cell_type": "code",
   "execution_count": 104,
   "id": "8d61b281",
   "metadata": {},
   "outputs": [
    {
     "name": "stdout",
     "output_type": "stream",
     "text": [
      "Entity: Mount, Label: B-MOUNT, Score: 1.00\n",
      "Entity: Kilimanjaro, Label: I-MOUNT, Score: 1.00\n",
      "Entity: Mount, Label: B-MOUNT, Score: 1.00\n",
      "Entity: McKinley, Label: I-MOUNT, Score: 1.00\n"
     ]
    }
   ],
   "source": [
    "# Test text\n",
    "test_text = \"I climbed Mount Kilimanjaro and Mount McKinley.\"\n",
    "\n",
    "# Predictions\n",
    "predictions = ner_pipeline(test_text)\n",
    "\n",
    "# Merge results\n",
    "merged_predictions = merge_subtokens_with_threshold(predictions)\n",
    "\n",
    "# Output the results\n",
    "for entity in merged_predictions:\n",
    "    print(f\"Entity: {entity['word']}, Label: {entity['entity']}, Score: {entity['score']:.2f}\")"
   ]
  },
  {
   "cell_type": "code",
   "execution_count": 105,
   "id": "2eda4b8e",
   "metadata": {},
   "outputs": [],
   "source": [
    "# Test sentences\n",
    "test_sentences = [\n",
    "    \"Mount Everest is the tallest mountain.\",\n",
    "    \"I hiked in the Alps and the Pyrenees last summer.\",\n",
    "    \"Kilimanjaro is in Tanzania.\",\n",
    "    \"This sentence does not mention a mountain.\",\n",
    "    \"Denali, also known as Mount McKinley, is in Alaska.\",\n",
    "    \"The Andes are a stunning mountain range in South America.\",\n",
    "    \"I visited Table Mountain in South Africa last year.\",\n",
    "    \"Mount Fuji is an active volcano in Japan.\",\n",
    "    \"Rocky Mountains extend across the United States and Canada.\",\n",
    "    \"Mount Elbrus is the highest peak in Europe.\"\n",
    "]\n",
    "\n",
    "# Corresponding labels\n",
    "test_labels = [\n",
    "    [\"B-MOUNT\", \"I-MOUNT\", \"O\", \"O\", \"O\", \"O\", \"O\"],\n",
    "    [\"O\", \"O\", \"O\", \"O\", \"B-MOUNT\", \"O\", \"O\", \"B-MOUNT\", \"O\", \"O\", \"O\"],\n",
    "    [\"B-MOUNT\", \"O\", \"O\", \"O\", \"O\"],\n",
    "    [\"O\", \"O\", \"O\", \"O\", \"O\", \"O\", \"O\", \"O\"],\n",
    "    [\"B-MOUNT\", \"O\", \"O\", \"O\", \"B-MOUNT\", \"I-MOUNT\", \"O\", \"O\", \"O\", \"O\", \"O\", \"O\"],\n",
    "    [\"O\", \"B-MOUNT\", \"O\", \"O\", \"O\", \"O\", \"O\", \"O\", \"O\", \"O\", \"O\"],\n",
    "    [\"O\", \"O\", \"B-MOUNT\", \"I-MOUNT\", \"O\", \"O\", \"O\", \"O\", \"O\", \"O\"],\n",
    "    [\"B-MOUNT\", \"I-MOUNT\", \"O\", \"O\", \"O\", \"O\", \"O\", \"O\", \"O\"],\n",
    "    [\"B-MOUNT\", \"I-MOUNT\", \"O\", \"O\", \"O\", \"O\", \"O\", \"O\", \"O\", \"O\"],\n",
    "    [\"B-MOUNT\", \"I-MOUNT\", \"O\", \"O\", \"O\", \"O\", \"O\", \"O\", \"O\"]\n",
    "]"
   ]
  },
  {
   "cell_type": "markdown",
   "id": "c2ee0982",
   "metadata": {},
   "source": [
    "This dataset includes:\n",
    "\n",
    "- Sentences with single mountains: e.g., \"Mount Everest\".\n",
    "- Sentences with multiple mountains: e.g., \"The Alps and the Pyrenees\".\n",
    "- Complex sentences: e.g., \"Denali, also known as Mount McKinley\".\n",
    "- Sentences with no mountains: e.g., \"This sentence does not mention a mountain\"."
   ]
  },
  {
   "cell_type": "code",
   "execution_count": 106,
   "id": "ef1d8a09",
   "metadata": {},
   "outputs": [
    {
     "name": "stdout",
     "output_type": "stream",
     "text": [
      "Test dataset saved as 'test_dataset.csv'\n"
     ]
    }
   ],
   "source": [
    "# Combine into a dataframe\n",
    "test_data = pd.DataFrame({\n",
    "    \"sentence\": test_sentences,\n",
    "    \"labels\": [\" \".join(labels) for labels in test_labels]\n",
    "})\n",
    "\n",
    "# Save to CSV\n",
    "test_data.to_csv(\"test_dataset.csv\", index=False)\n",
    "print(\"Test dataset saved as 'test_dataset.csv'\")"
   ]
  },
  {
   "cell_type": "code",
   "execution_count": 107,
   "id": "a75ed455",
   "metadata": {},
   "outputs": [],
   "source": [
    "# Load the test dataset\n",
    "test_data = pd.read_csv(\"test_dataset.csv\")\n",
    "\n",
    "# Extract sentences and true labels\n",
    "test_sentences = test_data[\"sentence\"].tolist()\n",
    "test_labels = [labels.split() for labels in test_data[\"labels\"]]"
   ]
  },
  {
   "cell_type": "code",
   "execution_count": 110,
   "id": "c1440ced",
   "metadata": {},
   "outputs": [
    {
     "name": "stdout",
     "output_type": "stream",
     "text": [
      "Mount Everest is the tallest mountain.\n",
      "Entity: Mount, Label: B-MOUNT, Score: 1.00\n",
      "Entity: Everest, Label: I-MOUNT, Score: 1.00\n",
      "I hiked in the Alps and the Pyrenees last summer.\n",
      "Entity: Pyrenees, Label: B-MOUNT, Score: 1.00\n",
      "Kilimanjaro is in Tanzania.\n",
      "Entity: Kilimanjaro, Label: B-MOUNT, Score: 0.96\n",
      "This sentence does not mention a mountain.\n",
      "Denali, also known as Mount McKinley, is in Alaska.\n",
      "Entity: Denali, Label: B-MOUNT, Score: 1.00\n",
      "Entity: Mount, Label: B-MOUNT, Score: 1.00\n",
      "Entity: McKinley, Label: I-MOUNT, Score: 1.00\n",
      "The Andes are a stunning mountain range in South America.\n",
      "Entity: Andes, Label: B-MOUNT, Score: 1.00\n",
      "I visited Table Mountain in South Africa last year.\n",
      "Entity: Table, Label: B-MOUNT, Score: 1.00\n",
      "Entity: Mountain, Label: I-MOUNT, Score: 1.00\n",
      "Entity: Africa, Label: I-MOUNT, Score: 0.99\n",
      "Mount Fuji is an active volcano in Japan.\n",
      "Entity: Mount, Label: B-MOUNT, Score: 1.00\n",
      "Entity: Fuji, Label: I-MOUNT, Score: 1.00\n",
      "Rocky Mountains extend across the United States and Canada.\n",
      "Entity: Rocky, Label: B-MOUNT, Score: 1.00\n",
      "Entity: Mountains, Label: I-MOUNT, Score: 1.00\n",
      "Entity: States, Label: I-MOUNT, Score: 0.93\n",
      "Mount Elbrus is the highest peak in Europe.\n",
      "Entity: Mount, Label: B-MOUNT, Score: 1.00\n",
      "Entity: Elbrus, Label: I-MOUNT, Score: 1.00\n"
     ]
    }
   ],
   "source": [
    "for sentence in test_sentences:\n",
    "    # Predictions\n",
    "    predictions = ner_pipeline(sentence)\n",
    "\n",
    "    # Merge predictions with confidence filtering\n",
    "    filtered_predictions = merge_subtokens_with_threshold(predictions)\n",
    "    \n",
    "    print(sentence)\n",
    "    \n",
    "    # Output results\n",
    "    for entity in filtered_predictions:\n",
    "        print(f\"Entity: {entity['word']}, Label: {entity['entity']}, Score: {entity['score']:.2f}\")"
   ]
  }
 ],
 "metadata": {
  "kernelspec": {
   "display_name": "Python (Quantum-NER)",
   "language": "python",
   "name": "quantum-ner"
  },
  "language_info": {
   "codemirror_mode": {
    "name": "ipython",
    "version": 3
   },
   "file_extension": ".py",
   "mimetype": "text/x-python",
   "name": "python",
   "nbconvert_exporter": "python",
   "pygments_lexer": "ipython3",
   "version": "3.10.16"
  }
 },
 "nbformat": 4,
 "nbformat_minor": 5
}

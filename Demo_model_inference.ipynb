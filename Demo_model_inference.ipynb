{
 "cells": [
  {
   "cell_type": "code",
   "execution_count": 1,
   "metadata": {},
   "outputs": [],
   "source": [
    "import pandas as pd\n",
    "import torch\n",
    "\n",
    "from scripts.inference_utils import load_model, predict"
   ]
  },
  {
   "cell_type": "code",
   "execution_count": 2,
   "metadata": {},
   "outputs": [],
   "source": [
    "# Load the test dataset\n",
    "test_data = pd.read_csv(\"data/test_dataset.csv\")\n",
    "\n",
    "# Extract sentences and true labels\n",
    "test_sentences = test_data[\"sentence\"].tolist()\n",
    "test_labels = [labels.split() for labels in test_data[\"labels\"]] # Split the labels into list format"
   ]
  },
  {
   "cell_type": "code",
   "execution_count": 3,
   "metadata": {},
   "outputs": [],
   "source": [
    "# Specify the paths to the model and tokenizer\n",
    "model_path = './model'  # Replace with your model's path\n",
    "tokenizer_path = './tokenizer'  # Replace with your tokenizer's path\n",
    "\n",
    "# Load the model and tokenizer using the load_model function from inference_utils.py\n",
    "model, tokenizer = load_model(model_path, tokenizer_path)"
   ]
  },
  {
   "cell_type": "code",
   "execution_count": 4,
   "metadata": {},
   "outputs": [
    {
     "data": {
      "text/plain": [
       "BertForTokenClassification(\n",
       "  (bert): BertModel(\n",
       "    (embeddings): BertEmbeddings(\n",
       "      (word_embeddings): Embedding(28996, 768, padding_idx=0)\n",
       "      (position_embeddings): Embedding(512, 768)\n",
       "      (token_type_embeddings): Embedding(2, 768)\n",
       "      (LayerNorm): LayerNorm((768,), eps=1e-12, elementwise_affine=True)\n",
       "      (dropout): Dropout(p=0.1, inplace=False)\n",
       "    )\n",
       "    (encoder): BertEncoder(\n",
       "      (layer): ModuleList(\n",
       "        (0-11): 12 x BertLayer(\n",
       "          (attention): BertAttention(\n",
       "            (self): BertSdpaSelfAttention(\n",
       "              (query): Linear(in_features=768, out_features=768, bias=True)\n",
       "              (key): Linear(in_features=768, out_features=768, bias=True)\n",
       "              (value): Linear(in_features=768, out_features=768, bias=True)\n",
       "              (dropout): Dropout(p=0.1, inplace=False)\n",
       "            )\n",
       "            (output): BertSelfOutput(\n",
       "              (dense): Linear(in_features=768, out_features=768, bias=True)\n",
       "              (LayerNorm): LayerNorm((768,), eps=1e-12, elementwise_affine=True)\n",
       "              (dropout): Dropout(p=0.1, inplace=False)\n",
       "            )\n",
       "          )\n",
       "          (intermediate): BertIntermediate(\n",
       "            (dense): Linear(in_features=768, out_features=3072, bias=True)\n",
       "            (intermediate_act_fn): GELUActivation()\n",
       "          )\n",
       "          (output): BertOutput(\n",
       "            (dense): Linear(in_features=3072, out_features=768, bias=True)\n",
       "            (LayerNorm): LayerNorm((768,), eps=1e-12, elementwise_affine=True)\n",
       "            (dropout): Dropout(p=0.1, inplace=False)\n",
       "          )\n",
       "        )\n",
       "      )\n",
       "    )\n",
       "  )\n",
       "  (dropout): Dropout(p=0.1, inplace=False)\n",
       "  (classifier): Linear(in_features=768, out_features=3, bias=True)\n",
       ")"
      ]
     },
     "execution_count": 4,
     "metadata": {},
     "output_type": "execute_result"
    }
   ],
   "source": [
    "# Set up device (GPU if available)\n",
    "device = torch.device(\"cuda\" if torch.cuda.is_available() else \"cpu\")\n",
    "model.to(device)"
   ]
  },
  {
   "cell_type": "code",
   "execution_count": 5,
   "metadata": {},
   "outputs": [
    {
     "data": {
      "text/html": [
       "<div>\n",
       "<style scoped>\n",
       "    .dataframe tbody tr th:only-of-type {\n",
       "        vertical-align: middle;\n",
       "    }\n",
       "\n",
       "    .dataframe tbody tr th {\n",
       "        vertical-align: top;\n",
       "    }\n",
       "\n",
       "    .dataframe thead th {\n",
       "        text-align: right;\n",
       "    }\n",
       "</style>\n",
       "<table border=\"1\" class=\"dataframe\">\n",
       "  <thead>\n",
       "    <tr style=\"text-align: right;\">\n",
       "      <th></th>\n",
       "      <th>sentence</th>\n",
       "      <th>predicted_mountains</th>\n",
       "    </tr>\n",
       "  </thead>\n",
       "  <tbody>\n",
       "    <tr>\n",
       "      <th>0</th>\n",
       "      <td>Mount Everest is the tallest mountain.</td>\n",
       "      <td>Everest</td>\n",
       "    </tr>\n",
       "    <tr>\n",
       "      <th>1</th>\n",
       "      <td>I hiked in the Alps and the Pyrenees last summer.</td>\n",
       "      <td>Alps Pyrenees</td>\n",
       "    </tr>\n",
       "    <tr>\n",
       "      <th>2</th>\n",
       "      <td>Kilimanjaro is in Tanzania.</td>\n",
       "      <td>Kilimanjaro</td>\n",
       "    </tr>\n",
       "    <tr>\n",
       "      <th>3</th>\n",
       "      <td>This sentence does not mention a mountain.</td>\n",
       "      <td>No mountain detected</td>\n",
       "    </tr>\n",
       "    <tr>\n",
       "      <th>4</th>\n",
       "      <td>Denali, also known as Mount McKinley, is in Al...</td>\n",
       "      <td>Denali McKinley</td>\n",
       "    </tr>\n",
       "    <tr>\n",
       "      <th>5</th>\n",
       "      <td>The Andes are a stunning mountain range in Sou...</td>\n",
       "      <td>Andes SouthAmerica</td>\n",
       "    </tr>\n",
       "    <tr>\n",
       "      <th>6</th>\n",
       "      <td>I visited Table Mountain in South Africa last ...</td>\n",
       "      <td>Table SouthAfrica</td>\n",
       "    </tr>\n",
       "    <tr>\n",
       "      <th>7</th>\n",
       "      <td>Mount Fuji is an active volcano in Japan.</td>\n",
       "      <td>Fuji</td>\n",
       "    </tr>\n",
       "    <tr>\n",
       "      <th>8</th>\n",
       "      <td>Rocky Mountains extend across the United State...</td>\n",
       "      <td>Rocky States Canada</td>\n",
       "    </tr>\n",
       "    <tr>\n",
       "      <th>9</th>\n",
       "      <td>Mount Elbrus is the highest peak in Europe.</td>\n",
       "      <td>Elbrus</td>\n",
       "    </tr>\n",
       "  </tbody>\n",
       "</table>\n",
       "</div>"
      ],
      "text/plain": [
       "                                            sentence   predicted_mountains\n",
       "0             Mount Everest is the tallest mountain.               Everest\n",
       "1  I hiked in the Alps and the Pyrenees last summer.         Alps Pyrenees\n",
       "2                        Kilimanjaro is in Tanzania.           Kilimanjaro\n",
       "3         This sentence does not mention a mountain.  No mountain detected\n",
       "4  Denali, also known as Mount McKinley, is in Al...       Denali McKinley\n",
       "5  The Andes are a stunning mountain range in Sou...    Andes SouthAmerica\n",
       "6  I visited Table Mountain in South Africa last ...     Table SouthAfrica\n",
       "7          Mount Fuji is an active volcano in Japan.                  Fuji\n",
       "8  Rocky Mountains extend across the United State...   Rocky States Canada\n",
       "9        Mount Elbrus is the highest peak in Europe.                Elbrus"
      ]
     },
     "execution_count": 5,
     "metadata": {},
     "output_type": "execute_result"
    }
   ],
   "source": [
    "# Run predictions on the test sentences\n",
    "predictions = []\n",
    "for sentence in test_sentences:\n",
    "    predicted_mountains = predict(sentence, model, tokenizer, device)\n",
    "    predictions.append(predicted_mountains)\n",
    "\n",
    "# Add predictions to the dataframe\n",
    "test_data['predicted_mountains'] = predictions\n",
    "\n",
    "# Clean up the predictions column by joining the tokens into a single string with spaces\n",
    "test_data['predicted_mountains'] = test_data['predicted_mountains'].apply(lambda x: ' '.join(x) if x else \"No mountain detected\")\n",
    "\n",
    "# Display the results\n",
    "test_data[['sentence','predicted_mountains']].head()"
   ]
  }
 ],
 "metadata": {
  "kernelspec": {
   "display_name": "Quantum-NER",
   "language": "python",
   "name": "python3"
  },
  "language_info": {
   "codemirror_mode": {
    "name": "ipython",
    "version": 3
   },
   "file_extension": ".py",
   "mimetype": "text/x-python",
   "name": "python",
   "nbconvert_exporter": "python",
   "pygments_lexer": "ipython3",
   "version": "3.10.16"
  }
 },
 "nbformat": 4,
 "nbformat_minor": 2
}

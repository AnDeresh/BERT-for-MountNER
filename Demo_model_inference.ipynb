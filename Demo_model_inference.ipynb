{
 "cells": [
  {
   "cell_type": "code",
   "execution_count": 1,
   "metadata": {},
   "outputs": [],
   "source": [
    "import pandas as pd\n",
    "import torch\n",
    "\n",
    "from scripts.inference_utils import load_model, predict"
   ]
  },
  {
   "cell_type": "code",
   "execution_count": 2,
   "metadata": {},
   "outputs": [],
   "source": [
    "# Load the test dataset\n",
    "test_data = pd.read_csv(\"data/test_dataset.csv\")\n",
    "\n",
    "# Extract sentences and true labels\n",
    "test_sentences = test_data[\"sentence\"].tolist()\n",
    "test_labels = [labels.split() for labels in test_data[\"labels\"]] # Split the labels into list format"
   ]
  },
  {
   "cell_type": "code",
   "execution_count": 3,
   "metadata": {},
   "outputs": [],
   "source": [
    "# Specify the paths to the model and tokenizer\n",
    "model_path = './model'  # Replace with your model's path\n",
    "tokenizer_path = './tokenizer'  # Replace with your tokenizer's path\n",
    "\n",
    "# Load the model and tokenizer using the load_model function from inference_utils.py\n",
    "model, tokenizer = load_model(model_path, tokenizer_path)"
   ]
  },
  {
   "cell_type": "code",
   "execution_count": null,
   "metadata": {},
   "outputs": [],
   "source": [
    "# Set up device (GPU if available)\n",
    "device = torch.device(\"cuda\" if torch.cuda.is_available() else \"cpu\")\n",
    "model.to(device)"
   ]
  },
  {
   "cell_type": "code",
   "execution_count": 5,
   "metadata": {},
   "outputs": [
    {
     "data": {
      "text/html": [
       "<div>\n",
       "<style scoped>\n",
       "    .dataframe tbody tr th:only-of-type {\n",
       "        vertical-align: middle;\n",
       "    }\n",
       "\n",
       "    .dataframe tbody tr th {\n",
       "        vertical-align: top;\n",
       "    }\n",
       "\n",
       "    .dataframe thead th {\n",
       "        text-align: right;\n",
       "    }\n",
       "</style>\n",
       "<table border=\"1\" class=\"dataframe\">\n",
       "  <thead>\n",
       "    <tr style=\"text-align: right;\">\n",
       "      <th></th>\n",
       "      <th>sentence</th>\n",
       "      <th>predicted_mountains</th>\n",
       "    </tr>\n",
       "  </thead>\n",
       "  <tbody>\n",
       "    <tr>\n",
       "      <th>0</th>\n",
       "      <td>Mount Everest is the tallest mountain.</td>\n",
       "      <td>Everest</td>\n",
       "    </tr>\n",
       "    <tr>\n",
       "      <th>1</th>\n",
       "      <td>I hiked in the Alps and the Pyrenees last summer.</td>\n",
       "      <td>Alps Pyrenees</td>\n",
       "    </tr>\n",
       "    <tr>\n",
       "      <th>2</th>\n",
       "      <td>Kilimanjaro is in Tanzania.</td>\n",
       "      <td>Kilimanjaro</td>\n",
       "    </tr>\n",
       "    <tr>\n",
       "      <th>3</th>\n",
       "      <td>This sentence does not mention a mountain.</td>\n",
       "      <td>No mountain detected</td>\n",
       "    </tr>\n",
       "    <tr>\n",
       "      <th>4</th>\n",
       "      <td>Denali, also known as Mount McKinley, is in Al...</td>\n",
       "      <td>Denali McKinley</td>\n",
       "    </tr>\n",
       "  </tbody>\n",
       "</table>\n",
       "</div>"
      ],
      "text/plain": [
       "                                            sentence   predicted_mountains\n",
       "0             Mount Everest is the tallest mountain.               Everest\n",
       "1  I hiked in the Alps and the Pyrenees last summer.         Alps Pyrenees\n",
       "2                        Kilimanjaro is in Tanzania.           Kilimanjaro\n",
       "3         This sentence does not mention a mountain.  No mountain detected\n",
       "4  Denali, also known as Mount McKinley, is in Al...       Denali McKinley"
      ]
     },
     "execution_count": 5,
     "metadata": {},
     "output_type": "execute_result"
    }
   ],
   "source": [
    "# Run predictions on the test sentences\n",
    "predictions = []\n",
    "for sentence in test_sentences:\n",
    "    predicted_mountains = predict(sentence, model, tokenizer, device)\n",
    "    predictions.append(predicted_mountains)\n",
    "\n",
    "# Add predictions to the dataframe\n",
    "test_data['predicted_mountains'] = predictions\n",
    "\n",
    "# Clean up the predictions column by joining the tokens into a single string with spaces\n",
    "test_data['predicted_mountains'] = test_data['predicted_mountains'].apply(lambda x: ' '.join(x) if x else \"No mountain detected\")\n",
    "\n",
    "# Display the results\n",
    "test_data[['sentence','predicted_mountains']].head()"
   ]
  }
 ],
 "metadata": {
  "kernelspec": {
   "display_name": "Quantum-NER",
   "language": "python",
   "name": "python3"
  },
  "language_info": {
   "codemirror_mode": {
    "name": "ipython",
    "version": 3
   },
   "file_extension": ".py",
   "mimetype": "text/x-python",
   "name": "python",
   "nbconvert_exporter": "python",
   "pygments_lexer": "ipython3",
   "version": "3.10.16"
  }
 },
 "nbformat": 4,
 "nbformat_minor": 2
}

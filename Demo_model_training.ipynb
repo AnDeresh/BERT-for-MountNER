{
 "cells": [
  {
   "cell_type": "code",
   "execution_count": 1,
   "metadata": {},
   "outputs": [],
   "source": [
    "import torch\n",
    "import logging\n",
    "from torch.utils.data import DataLoader\n",
    "from transformers import AutoModelForTokenClassification, AdamW\n",
    "from torch.nn import CrossEntropyLoss\n",
    "import matplotlib.pyplot as plt\n",
    "from tqdm import tqdm\n",
    "import os\n",
    "\n",
    "from scripts.data_processing import *"
   ]
  },
  {
   "cell_type": "code",
   "execution_count": 2,
   "metadata": {},
   "outputs": [
    {
     "name": "stdout",
     "output_type": "stream",
     "text": [
      "CUDA available: True\n",
      "PyTorch version: 2.5.1+cu118\n",
      "GPU: NVIDIA GeForce RTX 4070 Ti\n"
     ]
    }
   ],
   "source": [
    "# Check and print whether CUDA is available, the version of PyTorch, and the GPU name (if available)\n",
    "# This section will display:\n",
    "\n",
    "# - Whether CUDA is available on the system\n",
    "print(\"CUDA available:\", torch.cuda.is_available())\n",
    "# - The version of PyTorch installed\n",
    "print(\"PyTorch version:\", torch.__version__)\n",
    "# - The name of the GPU being used (if CUDA is available)\n",
    "if torch.cuda.is_available():\n",
    "    print(\"GPU:\", torch.cuda.get_device_name(0))"
   ]
  },
  {
   "cell_type": "code",
   "execution_count": 3,
   "metadata": {},
   "outputs": [],
   "source": [
    "# Set logging level to ERROR to suppress warnings\n",
    "logging.getLogger(\"transformers\").setLevel(logging.ERROR)"
   ]
  },
  {
   "cell_type": "code",
   "execution_count": 4,
   "metadata": {},
   "outputs": [
    {
     "name": "stderr",
     "output_type": "stream",
     "text": [
      "C:\\Users\\Anastasiia\\AppData\\Local\\Temp\\ipykernel_23452\\1161382290.py:2: FutureWarning: You are using `torch.load` with `weights_only=False` (the current default value), which uses the default pickle module implicitly. It is possible to construct malicious pickle data which will execute arbitrary code during unpickling (See https://github.com/pytorch/pytorch/blob/main/SECURITY.md#untrusted-models for more details). In a future release, the default value for `weights_only` will be flipped to `True`. This limits the functions that could be executed during unpickling. Arbitrary objects will no longer be allowed to be loaded via this mode unless they are explicitly allowlisted by the user via `torch.serialization.add_safe_globals`. We recommend you start setting `weights_only=True` for any use case where you don't have full control of the loaded file. Please open an issue on GitHub for any issues related to this experimental feature.\n",
      "  data = torch.load('data/preprocessed_data.pth')\n"
     ]
    }
   ],
   "source": [
    "# Load the saved data\n",
    "data = torch.load('data/preprocessed_data.pth')\n",
    "\n",
    "# Extract training and testing data from the 'data' dictionary\n",
    "train_inputs = data['train_inputs']\n",
    "train_labels = data['train_labels']\n",
    "test_inputs = data['test_inputs']\n",
    "test_labels = data['test_labels']"
   ]
  },
  {
   "cell_type": "code",
   "execution_count": 5,
   "metadata": {},
   "outputs": [],
   "source": [
    "# Define label-to-ID mapping\n",
    "label2id = {\"O\": 0, \"B-MOUNT\": 1, \"I-MOUNT\": 2}\n",
    "\n",
    "# Recreate the datasets\n",
    "train_dataset = NERDataset(train_inputs, train_labels, label2id)\n",
    "test_dataset = NERDataset(test_inputs, test_labels, label2id)\n",
    "\n",
    "# Recreate the DataLoader objects\n",
    "train_dataloader = DataLoader(train_dataset, batch_size=8, shuffle=True)\n",
    "test_dataloader = DataLoader(test_dataset, batch_size=8)"
   ]
  },
  {
   "cell_type": "code",
   "execution_count": 6,
   "metadata": {},
   "outputs": [],
   "source": [
    "# Define the model\n",
    "model = AutoModelForTokenClassification.from_pretrained(\n",
    "    \"bert-base-cased\",\n",
    "    num_labels=3,\n",
    "    id2label={0: \"O\", 1: \"B-MOUNT\", 2: \"I-MOUNT\"},\n",
    "    label2id={\"O\": 0, \"B-MOUNT\": 1, \"I-MOUNT\": 2}\n",
    ")\n",
    "\n",
    "# Set the device to GPU if CUDA is available, otherwise use CPU\n",
    "device = torch.device(\"cuda\" if torch.cuda.is_available() else \"cpu\")"
   ]
  },
  {
   "cell_type": "code",
   "execution_count": 7,
   "metadata": {},
   "outputs": [
    {
     "name": "stderr",
     "output_type": "stream",
     "text": [
      "c:\\Users\\Anastasiia\\anaconda3\\envs\\Quantum-NER\\lib\\site-packages\\transformers\\optimization.py:591: FutureWarning: This implementation of AdamW is deprecated and will be removed in a future version. Use the PyTorch implementation torch.optim.AdamW instead, or set `no_deprecation_warning=True` to disable this warning\n",
      "  warnings.warn(\n"
     ]
    },
    {
     "data": {
      "text/plain": [
       "BertForTokenClassification(\n",
       "  (bert): BertModel(\n",
       "    (embeddings): BertEmbeddings(\n",
       "      (word_embeddings): Embedding(28996, 768, padding_idx=0)\n",
       "      (position_embeddings): Embedding(512, 768)\n",
       "      (token_type_embeddings): Embedding(2, 768)\n",
       "      (LayerNorm): LayerNorm((768,), eps=1e-12, elementwise_affine=True)\n",
       "      (dropout): Dropout(p=0.1, inplace=False)\n",
       "    )\n",
       "    (encoder): BertEncoder(\n",
       "      (layer): ModuleList(\n",
       "        (0-11): 12 x BertLayer(\n",
       "          (attention): BertAttention(\n",
       "            (self): BertSdpaSelfAttention(\n",
       "              (query): Linear(in_features=768, out_features=768, bias=True)\n",
       "              (key): Linear(in_features=768, out_features=768, bias=True)\n",
       "              (value): Linear(in_features=768, out_features=768, bias=True)\n",
       "              (dropout): Dropout(p=0.1, inplace=False)\n",
       "            )\n",
       "            (output): BertSelfOutput(\n",
       "              (dense): Linear(in_features=768, out_features=768, bias=True)\n",
       "              (LayerNorm): LayerNorm((768,), eps=1e-12, elementwise_affine=True)\n",
       "              (dropout): Dropout(p=0.1, inplace=False)\n",
       "            )\n",
       "          )\n",
       "          (intermediate): BertIntermediate(\n",
       "            (dense): Linear(in_features=768, out_features=3072, bias=True)\n",
       "            (intermediate_act_fn): GELUActivation()\n",
       "          )\n",
       "          (output): BertOutput(\n",
       "            (dense): Linear(in_features=3072, out_features=768, bias=True)\n",
       "            (LayerNorm): LayerNorm((768,), eps=1e-12, elementwise_affine=True)\n",
       "            (dropout): Dropout(p=0.1, inplace=False)\n",
       "          )\n",
       "        )\n",
       "      )\n",
       "    )\n",
       "  )\n",
       "  (dropout): Dropout(p=0.1, inplace=False)\n",
       "  (classifier): Linear(in_features=768, out_features=3, bias=True)\n",
       ")"
      ]
     },
     "execution_count": 7,
     "metadata": {},
     "output_type": "execute_result"
    }
   ],
   "source": [
    "# Define class weights for imbalanced data\n",
    "tag_counts = {'O': 10153, 'B-MOUNT': 82, 'I-MOUNT': 5}\n",
    "total = sum(tag_counts.values())\n",
    "weights = torch.tensor([\n",
    "    total / tag_counts['O'],          # Weight for \"O\"\n",
    "    total / tag_counts['B-MOUNT'],    # Weight for \"B-MOUNT\"\n",
    "    total / tag_counts['I-MOUNT'],    # Weight for \"I-MOUNT\"\n",
    "]).to(device)\n",
    "\n",
    "# Use weighted loss\n",
    "loss_function = CrossEntropyLoss(weight=weights)\n",
    "\n",
    "# Prepare optimizer\n",
    "optimizer = AdamW(model.parameters(), lr=2e-5)\n",
    "\n",
    "# Move model to device (GPU if available)\n",
    "model.to(device)"
   ]
  },
  {
   "cell_type": "code",
   "execution_count": 8,
   "metadata": {},
   "outputs": [
    {
     "name": "stderr",
     "output_type": "stream",
     "text": [
      "Training Progress:   2%|▏         | 23/1000 [00:01<00:51, 18.83it/s]"
     ]
    },
    {
     "name": "stdout",
     "output_type": "stream",
     "text": [
      "Epoch 1 - Average loss: 0.38835125006735327\n"
     ]
    },
    {
     "name": "stderr",
     "output_type": "stream",
     "text": [
      "Training Progress:   4%|▍         | 43/1000 [00:02<00:50, 18.98it/s]"
     ]
    },
    {
     "name": "stdout",
     "output_type": "stream",
     "text": [
      "Epoch 2 - Average loss: 0.10197459906339645\n"
     ]
    },
    {
     "name": "stderr",
     "output_type": "stream",
     "text": [
      "Training Progress:   6%|▋         | 63/1000 [00:03<00:49, 18.83it/s]"
     ]
    },
    {
     "name": "stdout",
     "output_type": "stream",
     "text": [
      "Epoch 3 - Average loss: 0.05592739833518863\n"
     ]
    },
    {
     "name": "stderr",
     "output_type": "stream",
     "text": [
      "Training Progress:  96%|█████████▋| 963/1000 [00:51<00:02, 18.34it/s]"
     ]
    },
    {
     "name": "stdout",
     "output_type": "stream",
     "text": [
      "Epoch 48 - Average loss: 0.0003871514196362114\n"
     ]
    },
    {
     "name": "stderr",
     "output_type": "stream",
     "text": [
      "Training Progress:  98%|█████████▊| 983/1000 [00:52<00:00, 18.26it/s]"
     ]
    },
    {
     "name": "stdout",
     "output_type": "stream",
     "text": [
      "Epoch 49 - Average loss: 0.0004180870433629025\n"
     ]
    },
    {
     "name": "stderr",
     "output_type": "stream",
     "text": [
      "Training Progress: 100%|██████████| 1000/1000 [00:53<00:00, 18.69it/s]"
     ]
    },
    {
     "name": "stdout",
     "output_type": "stream",
     "text": [
      "Epoch 50 - Average loss: 0.0004192028398392722\n"
     ]
    },
    {
     "name": "stderr",
     "output_type": "stream",
     "text": [
      "\n"
     ]
    }
   ],
   "source": [
    "# List to store loss for each epoch\n",
    "epoch_num = 50\n",
    "\n",
    "# List to store loss for each epoch\n",
    "epoch_losses = []\n",
    "\n",
    "# Total number of batches for all epochs\n",
    "total_batches = len(train_dataloader) * epoch_num\n",
    "\n",
    "# Global progress bar\n",
    "with tqdm(total=total_batches, desc=\"Training Progress\") as pbar:\n",
    "    model.train()\n",
    "    for epoch in range(epoch_num):\n",
    "        total_loss = 0\n",
    "\n",
    "        for batch in train_dataloader:\n",
    "            input_ids = batch[\"input_ids\"].to(device)\n",
    "            attention_mask = batch[\"attention_mask\"].to(device)\n",
    "            labels = batch[\"labels\"].to(device)\n",
    "\n",
    "            # Forward pass\n",
    "            outputs = model(input_ids=input_ids, attention_mask=attention_mask, labels=labels)\n",
    "            logits = outputs.logits\n",
    "\n",
    "            # Compute loss\n",
    "            loss = loss_function(logits.view(-1, model.config.num_labels), labels.view(-1))\n",
    "            total_loss += loss.item()\n",
    "\n",
    "            # Backward pass and optimization\n",
    "            loss.backward()\n",
    "            optimizer.step()\n",
    "            optimizer.zero_grad()\n",
    "\n",
    "            # Update progress bar for each batch\n",
    "            pbar.update(1)\n",
    "\n",
    "        # Store the average loss for the epoch\n",
    "        average_loss = total_loss / len(train_dataloader)\n",
    "        epoch_losses.append(average_loss)\n",
    "\n",
    "        # Print loss for the first 3 epochs and the last 3 epochs\n",
    "        if epoch < 3 or epoch >= 47:\n",
    "            print(f\"Epoch {epoch + 1} - Average loss: {average_loss}\")"
   ]
  },
  {
   "cell_type": "code",
   "execution_count": 9,
   "metadata": {},
   "outputs": [
    {
     "data": {
      "image/png": "[encoded data removed]",
      "text/plain": [
       "<Figure size 1000x600 with 1 Axes>"
      ]
     },
     "metadata": {},
     "output_type": "display_data"
    }
   ],
   "source": [
    "# Plot the loss curve\n",
    "plt.figure(figsize=(10, 6))\n",
    "plt.plot(range(1, len(epoch_losses) + 1), epoch_losses, marker='o', label='Training Loss')\n",
    "plt.title('Training Loss over Epochs')\n",
    "plt.xlabel('Epoch')\n",
    "plt.ylabel('Loss')\n",
    "plt.xticks(range(1, len(epoch_losses) + 1))  # Set x-axis to show each epoch\n",
    "plt.legend()\n",
    "plt.grid()\n",
    "plt.show()"
   ]
  },
  {
   "cell_type": "markdown",
   "metadata": {},
   "source": [
    "This plot illustrates the **training loss over epochs**. It shows a rapid and significant decrease in loss during the initial epochs, demonstrating that the model is quickly learning and improving. By the later epochs, the model reaches a very low loss, indicating excellent convergence and strong performance."
   ]
  },
  {
   "cell_type": "code",
   "execution_count": 10,
   "metadata": {},
   "outputs": [
    {
     "name": "stdout",
     "output_type": "stream",
     "text": [
      "Saving model into existing folder: ./model\n",
      "Model and tokenizer saved in: ./model\n"
     ]
    }
   ],
   "source": [
    "# Define the folder where the model should be saved\n",
    "save_folder = \"./model\"\n",
    "\n",
    "# Check if the folder exists\n",
    "if not os.path.exists(save_folder):\n",
    "    print(f\"Creating folder: {save_folder}\")\n",
    "    os.makedirs(save_folder)\n",
    "else:\n",
    "    print(f\"Saving model into existing folder: {save_folder}\")\n",
    "\n",
    "# Save the model\n",
    "model.save_pretrained(save_folder)\n",
    "\n",
    "print(f\"Model and tokenizer saved in: {save_folder}\")"
   ]
  }
 ],
 "metadata": {
  "kernelspec": {
   "display_name": "Quantum-NER",
   "language": "python",
   "name": "python3"
  },
  "language_info": {
   "codemirror_mode": {
    "name": "ipython",
    "version": 3
   },
   "file_extension": ".py",
   "mimetype": "text/x-python",
   "name": "python",
   "nbconvert_exporter": "python",
   "pygments_lexer": "ipython3",
   "version": "3.10.16"
  }
 },
 "nbformat": 4,
 "nbformat_minor": 2
}
